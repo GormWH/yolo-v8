{
 "cells": [
  {
   "cell_type": "markdown",
   "id": "f915ebef",
   "metadata": {},
   "source": [
    "# YOLOv8 Exercise\n",
    "\n",
    "The contents of this jupyter notebook is my exploration on YOLOv8, following the [YOLOv8 Tutorial](https://colab.research.google.com/github/ultralytics/ultralytics/blob/main/examples/tutorial.ipynb) notebook.  \n"
   ]
  },
  {
   "cell_type": "markdown",
   "id": "baea94f9",
   "metadata": {},
   "source": [
    "# 0. Preparation\n",
    "\n",
    "## 0-1. Install `ultralytics`\n",
    "\n",
    "First, install `ultralytics` with pip.  \n",
    "Then check if `ultralytics` was correctly installed.  "
   ]
  },
  {
   "cell_type": "code",
   "execution_count": null,
   "id": "26c4fab3",
   "metadata": {},
   "outputs": [],
   "source": [
    "%pip install ultralytics # install ultralytics\n",
    "import ultralytics\n",
    "ultralytics.checks() # check if ultralytics is installed correctly"
   ]
  },
  {
   "cell_type": "markdown",
   "id": "93f078a8",
   "metadata": {},
   "source": [
    "## 0-2. Prepare images\n",
    "\n",
    "Since my goal is to detect human faces, I prepared some free images containing human faces.  \n",
    "The format of the images are fixed as `jpeg`, and are named like `human_x.jpeg` where `x` is the image index(no special meaning in the index).   \n",
    "\n",
    "The images are downloaded from [here](https://www.pexels.com/search/human%20face/).  \n",
    "They are saved right under `img` directory."
   ]
  },
  {
   "cell_type": "markdown",
   "id": "51382a03",
   "metadata": {},
   "source": [
    "# 1. Use a pretrained model\n",
    "\n",
    "Mainly two ways are provided to use YOLOv8.\n",
    "\n",
    "1. A command line tool\n",
    "2. A python API\n",
    "\n",
    "I chose to use the python."
   ]
  },
  {
   "cell_type": "markdown",
   "id": "b4add06f",
   "metadata": {},
   "source": [
    "## 1-1. Create a model\n",
    "\n",
    "model = "
   ]
  },
  {
   "cell_type": "code",
   "execution_count": null,
   "id": "e11dfd8e",
   "metadata": {},
   "outputs": [],
   "source": [
    "from ultralytics import YOLO\n",
    "\n",
    "# load a pretrained model (recommended for training)\n",
    "model = YOLO(\"yolov8n.pt\") \n",
    "\n",
    "# results = model(\"img/human_1.jpeg\")\n",
    "results = model.predict(source=\"img/human_1.jpeg\", show=True) # same as above\n",
    "\n",
    "print(results)"
   ]
  }
 ],
 "metadata": {
  "kernelspec": {
   "display_name": "Python 3 (ipykernel)",
   "language": "python",
   "name": "python3"
  },
  "language_info": {
   "codemirror_mode": {
    "name": "ipython",
    "version": 3
   },
   "file_extension": ".py",
   "mimetype": "text/x-python",
   "name": "python",
   "nbconvert_exporter": "python",
   "pygments_lexer": "ipython3",
   "version": "3.11.5"
  }
 },
 "nbformat": 4,
 "nbformat_minor": 5
}
